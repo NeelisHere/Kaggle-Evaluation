{
 "cells": [
  {
   "cell_type": "markdown",
   "id": "e9f36a69",
   "metadata": {
    "papermill": {
     "duration": 0.040999,
     "end_time": "2022-03-16T16:04:42.565188",
     "exception": false,
     "start_time": "2022-03-16T16:04:42.524189",
     "status": "completed"
    },
    "tags": []
   },
   "source": [
    "## Getting the Data\n",
    "We will be using cupy and cudf libraries from RAPIDS for those tasks"
   ]
  },
  {
   "cell_type": "code",
   "execution_count": 1,
   "id": "576338bb",
   "metadata": {
    "_cell_guid": "b1076dfc-b9ad-4769-8c92-a6c4dae69d19",
    "_uuid": "8f2839f25d086af736a60e9eeb907d3b93b6e0e5",
    "execution": {
     "iopub.execute_input": "2022-03-16T16:04:42.657152Z",
     "iopub.status.busy": "2022-03-16T16:04:42.656427Z",
     "iopub.status.idle": "2022-03-16T16:04:48.282639Z",
     "shell.execute_reply": "2022-03-16T16:04:48.282061Z",
     "shell.execute_reply.started": "2022-03-16T15:00:20.904609Z"
    },
    "papermill": {
     "duration": 5.67288,
     "end_time": "2022-03-16T16:04:48.282790",
     "exception": false,
     "start_time": "2022-03-16T16:04:42.609910",
     "status": "completed"
    },
    "tags": []
   },
   "outputs": [],
   "source": [
    "import cupy as np\n",
    "import cudf as pd \n",
    "path=''\n",
    "import os\n",
    "for dirname, _, filenames in os.walk('/kaggle/input'):\n",
    "    for filename in filenames:\n",
    "        path=os.path.join(dirname, filename)\n",
    "    \n",
    "df=pd.read_csv(path)"
   ]
  },
  {
   "cell_type": "markdown",
   "id": "25ef6c1a",
   "metadata": {
    "papermill": {
     "duration": 0.038003,
     "end_time": "2022-03-16T16:04:48.359129",
     "exception": false,
     "start_time": "2022-03-16T16:04:48.321126",
     "status": "completed"
    },
    "tags": []
   },
   "source": [
    "Checking the head of the dataframe that we have loaded just now."
   ]
  },
  {
   "cell_type": "code",
   "execution_count": 2,
   "id": "10ca5c66",
   "metadata": {
    "execution": {
     "iopub.execute_input": "2022-03-16T16:04:48.446731Z",
     "iopub.status.busy": "2022-03-16T16:04:48.445941Z",
     "iopub.status.idle": "2022-03-16T16:04:48.481581Z",
     "shell.execute_reply": "2022-03-16T16:04:48.481999Z",
     "shell.execute_reply.started": "2022-03-16T15:00:32.280068Z"
    },
    "papermill": {
     "duration": 0.085272,
     "end_time": "2022-03-16T16:04:48.482125",
     "exception": false,
     "start_time": "2022-03-16T16:04:48.396853",
     "status": "completed"
    },
    "tags": []
   },
   "outputs": [
    {
     "data": {
      "text/html": [
       "<div>\n",
       "<style scoped>\n",
       "    .dataframe tbody tr th:only-of-type {\n",
       "        vertical-align: middle;\n",
       "    }\n",
       "\n",
       "    .dataframe tbody tr th {\n",
       "        vertical-align: top;\n",
       "    }\n",
       "\n",
       "    .dataframe thead th {\n",
       "        text-align: right;\n",
       "    }\n",
       "</style>\n",
       "<table border=\"1\" class=\"dataframe\">\n",
       "  <thead>\n",
       "    <tr style=\"text-align: right;\">\n",
       "      <th></th>\n",
       "      <th>Date</th>\n",
       "      <th>Open</th>\n",
       "      <th>High</th>\n",
       "      <th>Low</th>\n",
       "      <th>Close</th>\n",
       "      <th>Adj Close</th>\n",
       "      <th>Volume</th>\n",
       "    </tr>\n",
       "  </thead>\n",
       "  <tbody>\n",
       "    <tr>\n",
       "      <th>0</th>\n",
       "      <td>1971-02-05</td>\n",
       "      <td>100.000000</td>\n",
       "      <td>100.000000</td>\n",
       "      <td>100.000000</td>\n",
       "      <td>100.000000</td>\n",
       "      <td>100.000000</td>\n",
       "      <td>0</td>\n",
       "    </tr>\n",
       "    <tr>\n",
       "      <th>1</th>\n",
       "      <td>1971-02-08</td>\n",
       "      <td>100.839996</td>\n",
       "      <td>100.839996</td>\n",
       "      <td>100.839996</td>\n",
       "      <td>100.839996</td>\n",
       "      <td>100.839996</td>\n",
       "      <td>0</td>\n",
       "    </tr>\n",
       "    <tr>\n",
       "      <th>2</th>\n",
       "      <td>1971-02-09</td>\n",
       "      <td>100.760002</td>\n",
       "      <td>100.760002</td>\n",
       "      <td>100.760002</td>\n",
       "      <td>100.760002</td>\n",
       "      <td>100.760002</td>\n",
       "      <td>0</td>\n",
       "    </tr>\n",
       "    <tr>\n",
       "      <th>3</th>\n",
       "      <td>1971-02-10</td>\n",
       "      <td>100.690002</td>\n",
       "      <td>100.690002</td>\n",
       "      <td>100.690002</td>\n",
       "      <td>100.690002</td>\n",
       "      <td>100.690002</td>\n",
       "      <td>0</td>\n",
       "    </tr>\n",
       "    <tr>\n",
       "      <th>4</th>\n",
       "      <td>1971-02-11</td>\n",
       "      <td>101.449997</td>\n",
       "      <td>101.449997</td>\n",
       "      <td>101.449997</td>\n",
       "      <td>101.449997</td>\n",
       "      <td>101.449997</td>\n",
       "      <td>0</td>\n",
       "    </tr>\n",
       "  </tbody>\n",
       "</table>\n",
       "</div>"
      ],
      "text/plain": [
       "         Date        Open        High         Low       Close   Adj Close  \\\n",
       "0  1971-02-05  100.000000  100.000000  100.000000  100.000000  100.000000   \n",
       "1  1971-02-08  100.839996  100.839996  100.839996  100.839996  100.839996   \n",
       "2  1971-02-09  100.760002  100.760002  100.760002  100.760002  100.760002   \n",
       "3  1971-02-10  100.690002  100.690002  100.690002  100.690002  100.690002   \n",
       "4  1971-02-11  101.449997  101.449997  101.449997  101.449997  101.449997   \n",
       "\n",
       "   Volume  \n",
       "0       0  \n",
       "1       0  \n",
       "2       0  \n",
       "3       0  \n",
       "4       0  "
      ]
     },
     "execution_count": 2,
     "metadata": {},
     "output_type": "execute_result"
    }
   ],
   "source": [
    "df.head()"
   ]
  },
  {
   "cell_type": "markdown",
   "id": "c187bef3",
   "metadata": {
    "papermill": {
     "duration": 0.037396,
     "end_time": "2022-03-16T16:04:48.557468",
     "exception": false,
     "start_time": "2022-03-16T16:04:48.520072",
     "status": "completed"
    },
    "tags": []
   },
   "source": [
    "## Checking Null Values"
   ]
  },
  {
   "cell_type": "markdown",
   "id": "47009917",
   "metadata": {
    "papermill": {
     "duration": 0.03762,
     "end_time": "2022-03-16T16:04:48.632149",
     "exception": false,
     "start_time": "2022-03-16T16:04:48.594529",
     "status": "completed"
    },
    "tags": []
   },
   "source": [
    "firstly we will print the structure of the dataset. We check for null values in the data frame to ensure that there are none. The existence of null values in the dataset causes issues during training since they function as outliers, creating a wide variance in the training process."
   ]
  },
  {
   "cell_type": "code",
   "execution_count": 3,
   "id": "0c18ca20",
   "metadata": {
    "execution": {
     "iopub.execute_input": "2022-03-16T16:04:48.713551Z",
     "iopub.status.busy": "2022-03-16T16:04:48.712713Z",
     "iopub.status.idle": "2022-03-16T16:04:48.724925Z",
     "shell.execute_reply": "2022-03-16T16:04:48.725557Z",
     "shell.execute_reply.started": "2022-03-16T15:00:36.145196Z"
    },
    "papermill": {
     "duration": 0.056181,
     "end_time": "2022-03-16T16:04:48.725730",
     "exception": false,
     "start_time": "2022-03-16T16:04:48.669549",
     "status": "completed"
    },
    "tags": []
   },
   "outputs": [
    {
     "name": "stdout",
     "output_type": "stream",
     "text": [
      "<class 'cudf.core.dataframe.DataFrame'>\n",
      "RangeIndex: 12824 entries, 0 to 12823\n",
      "Data columns (total 7 columns):\n",
      " #   Column     Non-Null Count  Dtype\n",
      "---  ------     --------------  -----\n",
      " 0   Date       12824 non-null  object\n",
      " 1   Open       12824 non-null  float64\n",
      " 2   High       12824 non-null  float64\n",
      " 3   Low        12824 non-null  float64\n",
      " 4   Close      12824 non-null  float64\n",
      " 5   Adj Close  12824 non-null  float64\n",
      " 6   Volume     12824 non-null  int64\n",
      "dtypes: float64(5), int64(1), object(1)\n",
      "memory usage: 776.5+ KB\n"
     ]
    }
   ],
   "source": [
    "df.info()"
   ]
  },
  {
   "cell_type": "code",
   "execution_count": 4,
   "id": "6c33081e",
   "metadata": {
    "execution": {
     "iopub.execute_input": "2022-03-16T16:04:48.804766Z",
     "iopub.status.busy": "2022-03-16T16:04:48.803925Z",
     "iopub.status.idle": "2022-03-16T16:04:48.816535Z",
     "shell.execute_reply": "2022-03-16T16:04:48.816102Z",
     "shell.execute_reply.started": "2022-03-16T15:00:39.076989Z"
    },
    "papermill": {
     "duration": 0.05357,
     "end_time": "2022-03-16T16:04:48.816636",
     "exception": false,
     "start_time": "2022-03-16T16:04:48.763066",
     "status": "completed"
    },
    "tags": []
   },
   "outputs": [
    {
     "name": "stdout",
     "output_type": "stream",
     "text": [
      "[0, 0, 0, 0, 0, 0, 0]\n"
     ]
    }
   ],
   "source": [
    "#which columns contains how many null values\n",
    "null_columns=[]\n",
    "for col in df.columns:\n",
    "    null_columns.append(df[col].isnull().sum())\n",
    "print(null_columns)\n",
    "target='Adj Close'"
   ]
  },
  {
   "cell_type": "markdown",
   "id": "2eb2d4a6",
   "metadata": {
    "papermill": {
     "duration": 0.036785,
     "end_time": "2022-03-16T16:04:48.890342",
     "exception": false,
     "start_time": "2022-03-16T16:04:48.853557",
     "status": "completed"
    },
    "tags": []
   },
   "source": [
    "If we run the above piece of code, we can see that no null values found from the above "
   ]
  },
  {
   "cell_type": "markdown",
   "id": "7ca0cddd",
   "metadata": {
    "papermill": {
     "duration": 0.036794,
     "end_time": "2022-03-16T16:04:48.964205",
     "exception": false,
     "start_time": "2022-03-16T16:04:48.927411",
     "status": "completed"
    },
    "tags": []
   },
   "source": [
    "## Preprocessing"
   ]
  },
  {
   "cell_type": "markdown",
   "id": "ba4c075f",
   "metadata": {
    "papermill": {
     "duration": 0.037547,
     "end_time": "2022-03-16T16:04:49.039329",
     "exception": false,
     "start_time": "2022-03-16T16:04:49.001782",
     "status": "completed"
    },
    "tags": []
   },
   "source": [
    "We will drop the date column for now and append it later on beacuse this way it will be easy for us to convert the whole dataframe into a 2-D array which we will split into train and test samples and apply the machine learning models later on."
   ]
  },
  {
   "cell_type": "code",
   "execution_count": 5,
   "id": "0ddf9417",
   "metadata": {
    "execution": {
     "iopub.execute_input": "2022-03-16T16:04:49.117759Z",
     "iopub.status.busy": "2022-03-16T16:04:49.117008Z",
     "iopub.status.idle": "2022-03-16T16:04:49.136924Z",
     "shell.execute_reply": "2022-03-16T16:04:49.136499Z",
     "shell.execute_reply.started": "2022-03-16T15:00:43.720147Z"
    },
    "papermill": {
     "duration": 0.060797,
     "end_time": "2022-03-16T16:04:49.137035",
     "exception": false,
     "start_time": "2022-03-16T16:04:49.076238",
     "status": "completed"
    },
    "tags": []
   },
   "outputs": [
    {
     "data": {
      "text/html": [
       "<div>\n",
       "<style scoped>\n",
       "    .dataframe tbody tr th:only-of-type {\n",
       "        vertical-align: middle;\n",
       "    }\n",
       "\n",
       "    .dataframe tbody tr th {\n",
       "        vertical-align: top;\n",
       "    }\n",
       "\n",
       "    .dataframe thead th {\n",
       "        text-align: right;\n",
       "    }\n",
       "</style>\n",
       "<table border=\"1\" class=\"dataframe\">\n",
       "  <thead>\n",
       "    <tr style=\"text-align: right;\">\n",
       "      <th></th>\n",
       "      <th>Open</th>\n",
       "      <th>High</th>\n",
       "      <th>Low</th>\n",
       "      <th>Close</th>\n",
       "      <th>Adj Close</th>\n",
       "      <th>Volume</th>\n",
       "    </tr>\n",
       "  </thead>\n",
       "  <tbody>\n",
       "    <tr>\n",
       "      <th>0</th>\n",
       "      <td>100.000000</td>\n",
       "      <td>100.000000</td>\n",
       "      <td>100.000000</td>\n",
       "      <td>100.000000</td>\n",
       "      <td>100.000000</td>\n",
       "      <td>0</td>\n",
       "    </tr>\n",
       "    <tr>\n",
       "      <th>1</th>\n",
       "      <td>100.839996</td>\n",
       "      <td>100.839996</td>\n",
       "      <td>100.839996</td>\n",
       "      <td>100.839996</td>\n",
       "      <td>100.839996</td>\n",
       "      <td>0</td>\n",
       "    </tr>\n",
       "    <tr>\n",
       "      <th>2</th>\n",
       "      <td>100.760002</td>\n",
       "      <td>100.760002</td>\n",
       "      <td>100.760002</td>\n",
       "      <td>100.760002</td>\n",
       "      <td>100.760002</td>\n",
       "      <td>0</td>\n",
       "    </tr>\n",
       "    <tr>\n",
       "      <th>3</th>\n",
       "      <td>100.690002</td>\n",
       "      <td>100.690002</td>\n",
       "      <td>100.690002</td>\n",
       "      <td>100.690002</td>\n",
       "      <td>100.690002</td>\n",
       "      <td>0</td>\n",
       "    </tr>\n",
       "    <tr>\n",
       "      <th>4</th>\n",
       "      <td>101.449997</td>\n",
       "      <td>101.449997</td>\n",
       "      <td>101.449997</td>\n",
       "      <td>101.449997</td>\n",
       "      <td>101.449997</td>\n",
       "      <td>0</td>\n",
       "    </tr>\n",
       "  </tbody>\n",
       "</table>\n",
       "</div>"
      ],
      "text/plain": [
       "         Open        High         Low       Close   Adj Close  Volume\n",
       "0  100.000000  100.000000  100.000000  100.000000  100.000000       0\n",
       "1  100.839996  100.839996  100.839996  100.839996  100.839996       0\n",
       "2  100.760002  100.760002  100.760002  100.760002  100.760002       0\n",
       "3  100.690002  100.690002  100.690002  100.690002  100.690002       0\n",
       "4  101.449997  101.449997  101.449997  101.449997  101.449997       0"
      ]
     },
     "execution_count": 5,
     "metadata": {},
     "output_type": "execute_result"
    }
   ],
   "source": [
    "df1=df.drop(columns=['Date'],axis='columns')\n",
    "df1.head()"
   ]
  },
  {
   "cell_type": "markdown",
   "id": "56c84ad1",
   "metadata": {
    "papermill": {
     "duration": 0.037179,
     "end_time": "2022-03-16T16:04:49.211987",
     "exception": false,
     "start_time": "2022-03-16T16:04:49.174808",
     "status": "completed"
    },
    "tags": []
   },
   "source": [
    "We have dropped the date column. So we are left with only the numerical features. We can now safely apply .values() and .tolist() function on the cudf.DataFrame object. After converting all the neumeric features into 2D array we append the dates."
   ]
  },
  {
   "cell_type": "code",
   "execution_count": 6,
   "id": "83707cb0",
   "metadata": {
    "execution": {
     "iopub.execute_input": "2022-03-16T16:04:49.292904Z",
     "iopub.status.busy": "2022-03-16T16:04:49.292363Z",
     "iopub.status.idle": "2022-03-16T16:05:42.165338Z",
     "shell.execute_reply": "2022-03-16T16:05:42.165746Z",
     "shell.execute_reply.started": "2022-03-16T15:00:46.790407Z"
    },
    "papermill": {
     "duration": 52.915645,
     "end_time": "2022-03-16T16:05:42.165911",
     "exception": false,
     "start_time": "2022-03-16T16:04:49.250266",
     "status": "completed"
    },
    "tags": []
   },
   "outputs": [
    {
     "data": {
      "text/plain": [
       "[['1971-02-05',\n",
       "  15690.650391,\n",
       "  15792.639648000002,\n",
       "  15618.879882999998,\n",
       "  15786.990233999999,\n",
       "  15786.990233999999,\n",
       "  4600800000.0],\n",
       " ['1971-02-08',\n",
       "  15510.910156,\n",
       "  15720.089844,\n",
       "  15507.660156,\n",
       "  15686.919922,\n",
       "  15686.919922,\n",
       "  5091220000.0],\n",
       " ['1971-02-09',\n",
       "  15117.629883,\n",
       "  15281.990233999999,\n",
       "  14931.610352000002,\n",
       "  15225.150391,\n",
       "  15225.150391,\n",
       "  5095960000.0]]"
      ]
     },
     "execution_count": 6,
     "metadata": {},
     "output_type": "execute_result"
    }
   ],
   "source": [
    "rows=df1.values.tolist()\n",
    "rows.reverse()\n",
    "# rows[:3]\n",
    "date_index=0;\n",
    "for row in rows:\n",
    "    row.reverse()\n",
    "    row.append(df['Date'][date_index])\n",
    "    row.reverse()\n",
    "    date_index+=1\n",
    "\n",
    "rows[:3]"
   ]
  },
  {
   "cell_type": "markdown",
   "id": "9adaa987",
   "metadata": {
    "papermill": {
     "duration": 0.037837,
     "end_time": "2022-03-16T16:05:42.241707",
     "exception": false,
     "start_time": "2022-03-16T16:05:42.203870",
     "status": "completed"
    },
    "tags": []
   },
   "source": [
    "## Train Test Split"
   ]
  },
  {
   "cell_type": "markdown",
   "id": "1c8156ce",
   "metadata": {
    "papermill": {
     "duration": 0.038424,
     "end_time": "2022-03-16T16:05:42.318115",
     "exception": false,
     "start_time": "2022-03-16T16:05:42.279691",
     "status": "completed"
    },
    "tags": []
   },
   "source": [
    "We first apply models on only the dates and the target_column. So we have extracted the date column and the target_column from the 2D array that we have created just now."
   ]
  },
  {
   "cell_type": "code",
   "execution_count": 7,
   "id": "430b8535",
   "metadata": {
    "execution": {
     "iopub.execute_input": "2022-03-16T16:05:42.412196Z",
     "iopub.status.busy": "2022-03-16T16:05:42.411529Z",
     "iopub.status.idle": "2022-03-16T16:05:42.414362Z",
     "shell.execute_reply": "2022-03-16T16:05:42.413455Z",
     "shell.execute_reply.started": "2022-03-16T15:02:24.767546Z"
    },
    "papermill": {
     "duration": 0.057374,
     "end_time": "2022-03-16T16:05:42.414464",
     "exception": false,
     "start_time": "2022-03-16T16:05:42.357090",
     "status": "completed"
    },
    "tags": []
   },
   "outputs": [],
   "source": [
    "X,Y=[],[]\n",
    "for row in rows:\n",
    "    X.append(int(''.join(row[0].split('-'))))\n",
    "    Y.append(row[5])"
   ]
  },
  {
   "cell_type": "markdown",
   "id": "39476d29",
   "metadata": {
    "papermill": {
     "duration": 0.037781,
     "end_time": "2022-03-16T16:05:42.490722",
     "exception": false,
     "start_time": "2022-03-16T16:05:42.452941",
     "status": "completed"
    },
    "tags": []
   },
   "source": [
    "Split X, Y into x_train, x_test, y_train, y_test"
   ]
  },
  {
   "cell_type": "code",
   "execution_count": 8,
   "id": "062b0b34",
   "metadata": {
    "execution": {
     "iopub.execute_input": "2022-03-16T16:05:42.571859Z",
     "iopub.status.busy": "2022-03-16T16:05:42.571145Z",
     "iopub.status.idle": "2022-03-16T16:05:42.586542Z",
     "shell.execute_reply": "2022-03-16T16:05:42.585586Z",
     "shell.execute_reply.started": "2022-03-16T15:02:27.803081Z"
    },
    "papermill": {
     "duration": 0.058081,
     "end_time": "2022-03-16T16:05:42.586657",
     "exception": false,
     "start_time": "2022-03-16T16:05:42.528576",
     "status": "completed"
    },
    "tags": []
   },
   "outputs": [],
   "source": [
    "from sklearn.model_selection import train_test_split\n",
    "x_train, x_test, y_train, y_test = train_test_split(X,Y,train_size=0.9,test_size=0.1)\n",
    "x_train = np.array(x_train)\n",
    "y_train = np.array(y_train)\n",
    "x_test = np.array(x_test)\n",
    "y_test = np.array(y_test)\n",
    "\n",
    "x_train = x_train.reshape(-1,1)\n",
    "x_test = x_test.reshape(-1,1)"
   ]
  },
  {
   "cell_type": "code",
   "execution_count": 9,
   "id": "b2989201",
   "metadata": {
    "execution": {
     "iopub.execute_input": "2022-03-16T16:05:42.667395Z",
     "iopub.status.busy": "2022-03-16T16:05:42.666768Z",
     "iopub.status.idle": "2022-03-16T16:05:42.669778Z",
     "shell.execute_reply": "2022-03-16T16:05:42.670393Z",
     "shell.execute_reply.started": "2022-03-16T15:02:30.765661Z"
    },
    "papermill": {
     "duration": 0.045908,
     "end_time": "2022-03-16T16:05:42.670557",
     "exception": false,
     "start_time": "2022-03-16T16:05:42.624649",
     "status": "completed"
    },
    "tags": []
   },
   "outputs": [
    {
     "name": "stdout",
     "output_type": "stream",
     "text": [
      "(11541, 1) (1283, 1)\n"
     ]
    }
   ],
   "source": [
    "print(x_train.shape,x_test.shape)"
   ]
  },
  {
   "cell_type": "markdown",
   "id": "e4733aae",
   "metadata": {
    "papermill": {
     "duration": 0.045912,
     "end_time": "2022-03-16T16:05:42.759135",
     "exception": false,
     "start_time": "2022-03-16T16:05:42.713223",
     "status": "completed"
    },
    "tags": []
   },
   "source": [
    "## Applying Model\n",
    "\n",
    "A linear regression model, random forest regressor and a gradient boosting regressor are chosen to be compared. The training data is given to all four of the models and then we pass the testing data and obtain the predicted values for each model which we use to plot and visualise.\n",
    "\n"
   ]
  },
  {
   "cell_type": "markdown",
   "id": "692a644c",
   "metadata": {
    "papermill": {
     "duration": 0.040925,
     "end_time": "2022-03-16T16:05:42.841589",
     "exception": false,
     "start_time": "2022-03-16T16:05:42.800664",
     "status": "completed"
    },
    "tags": []
   },
   "source": [
    "## Linear Regression model"
   ]
  },
  {
   "cell_type": "code",
   "execution_count": 10,
   "id": "29b88d59",
   "metadata": {
    "execution": {
     "iopub.execute_input": "2022-03-16T16:05:42.930939Z",
     "iopub.status.busy": "2022-03-16T16:05:42.930196Z",
     "iopub.status.idle": "2022-03-16T16:05:49.392524Z",
     "shell.execute_reply": "2022-03-16T16:05:49.391581Z",
     "shell.execute_reply.started": "2022-03-16T15:03:09.750987Z"
    },
    "papermill": {
     "duration": 6.509571,
     "end_time": "2022-03-16T16:05:49.392685",
     "exception": false,
     "start_time": "2022-03-16T16:05:42.883114",
     "status": "completed"
    },
    "tags": []
   },
   "outputs": [
    {
     "name": "stdout",
     "output_type": "stream",
     "text": [
      "*** svd ***\n",
      "Coefficients:\n",
      "[-0.01495823]\n",
      "Intercept:\n",
      "300695.9375\n",
      "[4518.4062  -121.625   5701.3438  ... 1828.6562   328.71875 1065.7812 ]\n",
      "*** eig ***\n",
      "Coefficients:\n",
      "[-0.01495823]\n",
      "Intercept:\n",
      "300695.9375\n",
      "[4518.4062  -121.625   5701.3438  ... 1828.6562   328.71875 1065.7812 ]\n",
      "*** qr ***\n",
      "Coefficients:\n",
      "[-0.01495823]\n",
      "Intercept:\n",
      "300695.9375\n",
      "[4518.4062  -121.625   5701.3438  ... 1828.6562   328.71875 1065.7812 ]\n",
      "*** svd-qr ***\n",
      "Coefficients:\n",
      "[-0.01495823]\n",
      "Intercept:\n",
      "300695.9375\n",
      "[4518.4062  -121.625   5701.3438  ... 1828.6562   328.71875 1065.7812 ]\n",
      "*** svd-jacobi ***\n",
      "Coefficients:\n",
      "[-0.01495823]\n",
      "Intercept:\n",
      "300695.9375\n",
      "[4518.4062  -121.625   5701.3438  ... 1828.6562   328.71875 1065.7812 ]\n"
     ]
    },
    {
     "name": "stderr",
     "output_type": "stream",
     "text": [
      "/opt/conda/lib/python3.7/site-packages/cuml/internals/api_decorators.py:409: UserWarning: Changing solver from 'eig' to 'svd' as eig solver does not support training data with 1 column currently.\n",
      "  return func(*args, **kwargs)\n"
     ]
    }
   ],
   "source": [
    "from cuml import LinearRegression\n",
    "from cuml.linear_model import LinearRegression\n",
    "\n",
    "algorithms=['svd','eig','qr','svd-qr','svd-jacobi']\n",
    "for algo in algorithms:\n",
    "    print('***',algo,'***')\n",
    "    lr = LinearRegression(fit_intercept = True, normalize = False,\n",
    "                      algorithm = algo)\n",
    "    reg = lr.fit(x_train.astype('float32'),y_train)\n",
    "    print(\"Coefficients:\")\n",
    "    print(reg.coef_)\n",
    "    print(\"Intercept:\")\n",
    "    print(reg.intercept_)\n",
    "\n",
    "    preds = lr.predict(x_test)\n",
    "\n",
    "    print(preds)"
   ]
  },
  {
   "cell_type": "code",
   "execution_count": 11,
   "id": "e062d0cb",
   "metadata": {
    "execution": {
     "iopub.execute_input": "2022-03-16T16:05:49.489505Z",
     "iopub.status.busy": "2022-03-16T16:05:49.488796Z",
     "iopub.status.idle": "2022-03-16T16:05:49.490993Z",
     "shell.execute_reply": "2022-03-16T16:05:49.491362Z",
     "shell.execute_reply.started": "2022-03-16T15:06:23.683989Z"
    },
    "papermill": {
     "duration": 0.05795,
     "end_time": "2022-03-16T16:05:49.491493",
     "exception": false,
     "start_time": "2022-03-16T16:05:49.433543",
     "status": "completed"
    },
    "tags": []
   },
   "outputs": [],
   "source": [
    "from sklearn.model_selection import train_test_split\n",
    "x_train, x_test, y_train, y_test = train_test_split(X,Y,train_size=0.9,test_size=0.1)\n",
    "x_train = np.asnumpy(x_train)\n",
    "y_train = np.asnumpy(y_train)\n",
    "x_test = np.asnumpy(x_test)\n",
    "y_test = np.asnumpy(y_test)\n",
    "x_train = x_train.reshape(-1,1)\n",
    "x_test = x_test.reshape(-1,1)"
   ]
  },
  {
   "cell_type": "markdown",
   "id": "9c82f4d4",
   "metadata": {
    "papermill": {
     "duration": 0.039884,
     "end_time": "2022-03-16T16:05:49.570930",
     "exception": false,
     "start_time": "2022-03-16T16:05:49.531046",
     "status": "completed"
    },
    "tags": []
   },
   "source": [
    "## Random Forest Classifier"
   ]
  },
  {
   "cell_type": "code",
   "execution_count": 12,
   "id": "ff7896c9",
   "metadata": {
    "execution": {
     "iopub.execute_input": "2022-03-16T16:05:49.723381Z",
     "iopub.status.busy": "2022-03-16T16:05:49.722331Z",
     "iopub.status.idle": "2022-03-16T16:05:51.085671Z",
     "shell.execute_reply": "2022-03-16T16:05:51.086268Z",
     "shell.execute_reply.started": "2022-03-16T15:06:51.883818Z"
    },
    "papermill": {
     "duration": 1.453514,
     "end_time": "2022-03-16T16:05:51.086467",
     "exception": false,
     "start_time": "2022-03-16T16:05:49.632953",
     "status": "completed"
    },
    "tags": []
   },
   "outputs": [
    {
     "name": "stdout",
     "output_type": "stream",
     "text": [
      "Accuracy of Random Forest Model: 0.9997531168730148\n"
     ]
    }
   ],
   "source": [
    "from sklearn.ensemble import RandomForestRegressor\n",
    "clf_rf = RandomForestRegressor(n_estimators=100)\n",
    "clf_rf.fit(x_train,y_train)\n",
    "y_pred_rf = clf_rf.predict(x_test)\n",
    "\n",
    "print(\"Accuracy of Random Forest Model:\",clf_rf.score(x_test,y_test))"
   ]
  },
  {
   "cell_type": "markdown",
   "id": "669647e2",
   "metadata": {
    "papermill": {
     "duration": 0.039876,
     "end_time": "2022-03-16T16:05:51.167214",
     "exception": false,
     "start_time": "2022-03-16T16:05:51.127338",
     "status": "completed"
    },
    "tags": []
   },
   "source": [
    "## Gradient Boosting Regressor"
   ]
  },
  {
   "cell_type": "code",
   "execution_count": 13,
   "id": "59708015",
   "metadata": {
    "execution": {
     "iopub.execute_input": "2022-03-16T16:05:51.252022Z",
     "iopub.status.busy": "2022-03-16T16:05:51.251269Z",
     "iopub.status.idle": "2022-03-16T16:05:52.143638Z",
     "shell.execute_reply": "2022-03-16T16:05:52.144236Z",
     "shell.execute_reply.started": "2022-03-16T15:06:57.116684Z"
    },
    "papermill": {
     "duration": 0.937684,
     "end_time": "2022-03-16T16:05:52.144443",
     "exception": false,
     "start_time": "2022-03-16T16:05:51.206759",
     "status": "completed"
    },
    "tags": []
   },
   "outputs": [
    {
     "name": "stdout",
     "output_type": "stream",
     "text": [
      "Accuracy of Gradient Boosting Model: 0.9993157574581855\n"
     ]
    }
   ],
   "source": [
    "from sklearn.ensemble import GradientBoostingRegressor\n",
    "clf_gb = GradientBoostingRegressor(n_estimators=200)\n",
    "clf_gb.fit(x_train,y_train)\n",
    "y_pred_gb = clf_gb.predict(x_test)\n",
    "\n",
    "print(\"Accuracy of Gradient Boosting Model:\",clf_gb.score(x_test,y_test))"
   ]
  },
  {
   "cell_type": "markdown",
   "id": "e3bef3a1",
   "metadata": {
    "papermill": {
     "duration": 0.040142,
     "end_time": "2022-03-16T16:05:52.226147",
     "exception": false,
     "start_time": "2022-03-16T16:05:52.186005",
     "status": "completed"
    },
    "tags": []
   },
   "source": [
    "We can observe that linear regression has been the worst performing model of all, it failed to predict the correct values a considerable number of times compared to other algorithms."
   ]
  },
  {
   "cell_type": "markdown",
   "id": "178466c7",
   "metadata": {
    "papermill": {
     "duration": 0.040506,
     "end_time": "2022-03-16T16:05:52.307206",
     "exception": false,
     "start_time": "2022-03-16T16:05:52.266700",
     "status": "completed"
    },
    "tags": []
   },
   "source": [
    "The random forest regressor is the best model to use out of all three. Random forest regressor is the model to go for.Gradient Boosting comes a close second. "
   ]
  },
  {
   "cell_type": "markdown",
   "id": "d4b5cef9",
   "metadata": {
    "papermill": {
     "duration": 0.040553,
     "end_time": "2022-03-16T16:05:52.389156",
     "exception": false,
     "start_time": "2022-03-16T16:05:52.348603",
     "status": "completed"
    },
    "tags": []
   },
   "source": [
    "Using the subplot feature, we plot the multiple predicted values from different models to visualise how good our algorithms can predict the values."
   ]
  },
  {
   "cell_type": "code",
   "execution_count": 14,
   "id": "ae317092",
   "metadata": {
    "execution": {
     "iopub.execute_input": "2022-03-16T16:05:52.479588Z",
     "iopub.status.busy": "2022-03-16T16:05:52.476618Z",
     "iopub.status.idle": "2022-03-16T16:05:53.061573Z",
     "shell.execute_reply": "2022-03-16T16:05:53.062025Z",
     "shell.execute_reply.started": "2022-03-16T15:13:55.259926Z"
    },
    "papermill": {
     "duration": 0.632695,
     "end_time": "2022-03-16T16:05:53.062178",
     "exception": false,
     "start_time": "2022-03-16T16:05:52.429483",
     "status": "completed"
    },
    "tags": []
   },
   "outputs": [
    {
     "data": {
      "text/plain": [
       "[<matplotlib.lines.Line2D at 0x7f834e229a50>]"
      ]
     },
     "execution_count": 14,
     "metadata": {},
     "output_type": "execute_result"
    },
    {
     "data": {
      "image/png": "[encoded data removed]",
      "text/plain": [
       "<Figure size 2160x720 with 2 Axes>"
      ]
     },
     "metadata": {
      "needs_background": "light"
     },
     "output_type": "display_data"
    }
   ],
   "source": [
    "import matplotlib.pyplot as plt \n",
    "f1,(ax3,ax4) = plt.subplots(1,2,figsize=(30,10))\n",
    "\n",
    "# Random Forest Regressor\n",
    "ax3.scatter(range(len(y_test)),y_test,label='data')\n",
    "ax3.plot(range(len(y_test)),y_pred_rf,color='red',label='RF model')\n",
    "ax3.legend()\n",
    "\n",
    "# Gradient Boosting Regressor\n",
    "ax4.scatter(range(len(y_test)),y_test,label='data')\n",
    "ax4.plot(range(len(y_test)),y_pred_gb,color='black',label='GB model')\n"
   ]
  },
  {
   "cell_type": "markdown",
   "id": "87c69d2d",
   "metadata": {
    "papermill": {
     "duration": 0.04885,
     "end_time": "2022-03-16T16:05:53.160895",
     "exception": false,
     "start_time": "2022-03-16T16:05:53.112045",
     "status": "completed"
    },
    "tags": []
   },
   "source": [
    "## LSTM (long short term memory)"
   ]
  },
  {
   "cell_type": "markdown",
   "id": "dcc7a9fd",
   "metadata": {
    "papermill": {
     "duration": 0.048581,
     "end_time": "2022-03-16T16:05:53.256865",
     "exception": false,
     "start_time": "2022-03-16T16:05:53.208284",
     "status": "completed"
    },
    "tags": []
   },
   "source": [
    "We will use the Long Short-Term Memory(LSTM) method to create a Machine Learning model to forecast the stock values. Long-term memory (LSTM) is a deep learning artificial recurrent neural network (RNN) architecture.\n",
    "\n",
    "Unlike traditional feed-forward neural networks, LSTM has feedback connections. It can handle single data points (such as pictures) as well as full data sequences (such as speech or video)."
   ]
  },
  {
   "cell_type": "code",
   "execution_count": 15,
   "id": "6b3100cf",
   "metadata": {
    "execution": {
     "iopub.execute_input": "2022-03-16T16:05:53.363437Z",
     "iopub.status.busy": "2022-03-16T16:05:53.362648Z",
     "iopub.status.idle": "2022-03-16T16:05:53.385222Z",
     "shell.execute_reply": "2022-03-16T16:05:53.384751Z",
     "shell.execute_reply.started": "2022-03-16T13:30:23.415532Z"
    },
    "papermill": {
     "duration": 0.077732,
     "end_time": "2022-03-16T16:05:53.385339",
     "exception": false,
     "start_time": "2022-03-16T16:05:53.307607",
     "status": "completed"
    },
    "tags": []
   },
   "outputs": [],
   "source": [
    "import numpy as np\n",
    "import pandas as pd \n",
    "path=''\n",
    "import os\n",
    "for dirname, _, filenames in os.walk('/kaggle/input'):\n",
    "    for filename in filenames:\n",
    "        path=os.path.join(dirname, filename)\n",
    "    \n",
    "df=pd.read_csv(path)"
   ]
  },
  {
   "cell_type": "code",
   "execution_count": 16,
   "id": "c180dacc",
   "metadata": {
    "execution": {
     "iopub.execute_input": "2022-03-16T16:05:53.483174Z",
     "iopub.status.busy": "2022-03-16T16:05:53.482458Z",
     "iopub.status.idle": "2022-03-16T16:05:53.647498Z",
     "shell.execute_reply": "2022-03-16T16:05:53.647927Z",
     "shell.execute_reply.started": "2022-03-16T13:30:41.235710Z"
    },
    "papermill": {
     "duration": 0.215524,
     "end_time": "2022-03-16T16:05:53.648075",
     "exception": false,
     "start_time": "2022-03-16T16:05:53.432551",
     "status": "completed"
    },
    "tags": []
   },
   "outputs": [
    {
     "name": "stdout",
     "output_type": "stream",
     "text": [
      "<class 'pandas.core.frame.DataFrame'>\n",
      "RangeIndex: 12824 entries, 0 to 12823\n",
      "Data columns (total 7 columns):\n",
      " #   Column     Non-Null Count  Dtype  \n",
      "---  ------     --------------  -----  \n",
      " 0   Date       12824 non-null  object \n",
      " 1   Open       12824 non-null  float64\n",
      " 2   High       12824 non-null  float64\n",
      " 3   Low        12824 non-null  float64\n",
      " 4   Close      12824 non-null  float64\n",
      " 5   Adj Close  12824 non-null  float64\n",
      " 6   Volume     12824 non-null  int64  \n",
      "dtypes: float64(5), int64(1), object(1)\n",
      "memory usage: 701.4+ KB\n"
     ]
    }
   ],
   "source": [
    "df.info()"
   ]
  },
  {
   "cell_type": "code",
   "execution_count": 17,
   "id": "1110da4d",
   "metadata": {
    "execution": {
     "iopub.execute_input": "2022-03-16T16:05:53.749131Z",
     "iopub.status.busy": "2022-03-16T16:05:53.748326Z",
     "iopub.status.idle": "2022-03-16T16:05:53.752866Z",
     "shell.execute_reply": "2022-03-16T16:05:53.752428Z",
     "shell.execute_reply.started": "2022-03-16T13:30:53.982063Z"
    },
    "papermill": {
     "duration": 0.057541,
     "end_time": "2022-03-16T16:05:53.752973",
     "exception": false,
     "start_time": "2022-03-16T16:05:53.695432",
     "status": "completed"
    },
    "tags": []
   },
   "outputs": [
    {
     "name": "stdout",
     "output_type": "stream",
     "text": [
      "[0, 0, 0, 0, 0, 0, 0]\n"
     ]
    }
   ],
   "source": [
    "null_cols=[]\n",
    "for col in df.columns:\n",
    "    null_cols.append(df[col].isnull().sum())\n",
    "print(null_cols)"
   ]
  },
  {
   "cell_type": "markdown",
   "id": "02115bb6",
   "metadata": {
    "papermill": {
     "duration": 0.046952,
     "end_time": "2022-03-16T16:05:53.847258",
     "exception": false,
     "start_time": "2022-03-16T16:05:53.800306",
     "status": "completed"
    },
    "tags": []
   },
   "source": [
    "## Plotting the True Adjusted Close Value"
   ]
  },
  {
   "cell_type": "markdown",
   "id": "52e185ec",
   "metadata": {
    "papermill": {
     "duration": 0.046998,
     "end_time": "2022-03-16T16:05:53.941471",
     "exception": false,
     "start_time": "2022-03-16T16:05:53.894473",
     "status": "completed"
    },
    "tags": []
   },
   "source": [
    "The Adjusted Close Value is the final output value that will be forecasted using the Machine Learning model. This figure indicates the stock’s closing price on that particular day of stock market trading."
   ]
  },
  {
   "cell_type": "code",
   "execution_count": 18,
   "id": "621ec6e6",
   "metadata": {
    "execution": {
     "iopub.execute_input": "2022-03-16T16:05:54.041685Z",
     "iopub.status.busy": "2022-03-16T16:05:54.041123Z",
     "iopub.status.idle": "2022-03-16T16:05:54.251443Z",
     "shell.execute_reply": "2022-03-16T16:05:54.251814Z",
     "shell.execute_reply.started": "2022-03-16T13:31:23.544855Z"
    },
    "papermill": {
     "duration": 0.263435,
     "end_time": "2022-03-16T16:05:54.251974",
     "exception": false,
     "start_time": "2022-03-16T16:05:53.988539",
     "status": "completed"
    },
    "tags": []
   },
   "outputs": [
    {
     "data": {
      "text/plain": [
       "<AxesSubplot:>"
      ]
     },
     "execution_count": 18,
     "metadata": {},
     "output_type": "execute_result"
    },
    {
     "data": {
      "image/png": "[encoded data removed]",
      "text/plain": [
       "<Figure size 432x288 with 1 Axes>"
      ]
     },
     "metadata": {
      "needs_background": "light"
     },
     "output_type": "display_data"
    }
   ],
   "source": [
    "%matplotlib inline\n",
    "import matplotlib. pyplot as plt\n",
    "import matplotlib\n",
    "target_col='Adj Close'\n",
    "df[target_col].plot()"
   ]
  },
  {
   "cell_type": "markdown",
   "id": "5b0177a2",
   "metadata": {
    "papermill": {
     "duration": 0.048405,
     "end_time": "2022-03-16T16:05:54.349121",
     "exception": false,
     "start_time": "2022-03-16T16:05:54.300716",
     "status": "completed"
    },
    "tags": []
   },
   "source": [
    "## Feature Selection"
   ]
  },
  {
   "cell_type": "markdown",
   "id": "5bf8391a",
   "metadata": {
    "papermill": {
     "duration": 0.049207,
     "end_time": "2022-03-16T16:05:54.446877",
     "exception": false,
     "start_time": "2022-03-16T16:05:54.397670",
     "status": "completed"
    },
    "tags": []
   },
   "source": [
    "The output column is then assigned to the target variable in the following step. It is the adjusted relative value of the Microsoft Stock in this situation. Furthermore, we pick the features that serve as the independent variable to the target variable (dependent variable). We choose four characteristics to account for training purposes:Open, High, Low, Volume"
   ]
  },
  {
   "cell_type": "code",
   "execution_count": 19,
   "id": "b566455d",
   "metadata": {
    "execution": {
     "iopub.execute_input": "2022-03-16T16:05:54.550512Z",
     "iopub.status.busy": "2022-03-16T16:05:54.549709Z",
     "iopub.status.idle": "2022-03-16T16:05:54.552255Z",
     "shell.execute_reply": "2022-03-16T16:05:54.551769Z",
     "shell.execute_reply.started": "2022-03-16T13:31:51.365513Z"
    },
    "papermill": {
     "duration": 0.055582,
     "end_time": "2022-03-16T16:05:54.552361",
     "exception": false,
     "start_time": "2022-03-16T16:05:54.496779",
     "status": "completed"
    },
    "tags": []
   },
   "outputs": [],
   "source": [
    "output_var=pd.DataFrame(df[target_col])\n",
    "features = ['Open','High','Low','Volume']"
   ]
  },
  {
   "cell_type": "markdown",
   "id": "ff5ee863",
   "metadata": {
    "papermill": {
     "duration": 0.048141,
     "end_time": "2022-03-16T16:05:54.649461",
     "exception": false,
     "start_time": "2022-03-16T16:05:54.601320",
     "status": "completed"
    },
    "tags": []
   },
   "source": [
    "## Scaling\n",
    "\n",
    "To decrease the computational cost of the data in the table, we will scale the stock values to values between 0 and 1. As a result, all of the data in large numbers is reduced, and therefore memory consumption is decreased. Also, because the data is not spread out in huge values, we can achieve greater precision by scaling down. To perform this we will be using the MinMaxScaler class of the sci-kit-learn library."
   ]
  },
  {
   "cell_type": "code",
   "execution_count": 20,
   "id": "4fea65db",
   "metadata": {
    "execution": {
     "iopub.execute_input": "2022-03-16T16:05:54.753377Z",
     "iopub.status.busy": "2022-03-16T16:05:54.752560Z",
     "iopub.status.idle": "2022-03-16T16:05:54.764072Z",
     "shell.execute_reply": "2022-03-16T16:05:54.763616Z",
     "shell.execute_reply.started": "2022-03-16T13:31:53.833899Z"
    },
    "papermill": {
     "duration": 0.06636,
     "end_time": "2022-03-16T16:05:54.764181",
     "exception": false,
     "start_time": "2022-03-16T16:05:54.697821",
     "status": "completed"
    },
    "tags": []
   },
   "outputs": [
    {
     "data": {
      "text/html": [
       "<div>\n",
       "<style scoped>\n",
       "    .dataframe tbody tr th:only-of-type {\n",
       "        vertical-align: middle;\n",
       "    }\n",
       "\n",
       "    .dataframe tbody tr th {\n",
       "        vertical-align: top;\n",
       "    }\n",
       "\n",
       "    .dataframe thead th {\n",
       "        text-align: right;\n",
       "    }\n",
       "</style>\n",
       "<table border=\"1\" class=\"dataframe\">\n",
       "  <thead>\n",
       "    <tr style=\"text-align: right;\">\n",
       "      <th></th>\n",
       "      <th>Open</th>\n",
       "      <th>High</th>\n",
       "      <th>Low</th>\n",
       "      <th>Volume</th>\n",
       "    </tr>\n",
       "  </thead>\n",
       "  <tbody>\n",
       "    <tr>\n",
       "      <th>0</th>\n",
       "      <td>0.002809</td>\n",
       "      <td>0.002793</td>\n",
       "      <td>0.002827</td>\n",
       "      <td>0.0</td>\n",
       "    </tr>\n",
       "    <tr>\n",
       "      <th>1</th>\n",
       "      <td>0.002861</td>\n",
       "      <td>0.002845</td>\n",
       "      <td>0.002880</td>\n",
       "      <td>0.0</td>\n",
       "    </tr>\n",
       "    <tr>\n",
       "      <th>2</th>\n",
       "      <td>0.002856</td>\n",
       "      <td>0.002840</td>\n",
       "      <td>0.002875</td>\n",
       "      <td>0.0</td>\n",
       "    </tr>\n",
       "    <tr>\n",
       "      <th>3</th>\n",
       "      <td>0.002852</td>\n",
       "      <td>0.002836</td>\n",
       "      <td>0.002871</td>\n",
       "      <td>0.0</td>\n",
       "    </tr>\n",
       "    <tr>\n",
       "      <th>4</th>\n",
       "      <td>0.002899</td>\n",
       "      <td>0.002883</td>\n",
       "      <td>0.002918</td>\n",
       "      <td>0.0</td>\n",
       "    </tr>\n",
       "  </tbody>\n",
       "</table>\n",
       "</div>"
      ],
      "text/plain": [
       "       Open      High       Low  Volume\n",
       "0  0.002809  0.002793  0.002827     0.0\n",
       "1  0.002861  0.002845  0.002880     0.0\n",
       "2  0.002856  0.002840  0.002875     0.0\n",
       "3  0.002852  0.002836  0.002871     0.0\n",
       "4  0.002899  0.002883  0.002918     0.0"
      ]
     },
     "execution_count": 20,
     "metadata": {},
     "output_type": "execute_result"
    }
   ],
   "source": [
    "from sklearn.preprocessing import MinMaxScaler\n",
    "scaler = MinMaxScaler()\n",
    "feature_transform = scaler.fit_transform(df[features])\n",
    "feature_transform= pd.DataFrame(columns=features, data=feature_transform, index=df.index)\n",
    "feature_transform.head()"
   ]
  },
  {
   "cell_type": "markdown",
   "id": "65fa2a4f",
   "metadata": {
    "papermill": {
     "duration": 0.055501,
     "end_time": "2022-03-16T16:05:54.870157",
     "exception": false,
     "start_time": "2022-03-16T16:05:54.814656",
     "status": "completed"
    },
    "tags": []
   },
   "source": [
    "## Train Test Split\n",
    "\n",
    "We have to divide the entire dataset into training and test sets before feeding it into the training model. The Machine Learning LSTM model will be trained on the data in the training set and tested for accuracy and backpropagation on the test set.\n",
    "\n",
    "The sci-kit-learn library’s TimeSeriesSplit class will be used for this. We set the number of splits to 10, indicating that 10% of the data will be used as the test set and 90% of the data would be used to train the LSTM model. The advantage of utilising this Time Series split is that the split time series data samples are examined at regular time intervals."
   ]
  },
  {
   "cell_type": "code",
   "execution_count": 21,
   "id": "89ca0e9c",
   "metadata": {
    "execution": {
     "iopub.execute_input": "2022-03-16T16:05:54.989003Z",
     "iopub.status.busy": "2022-03-16T16:05:54.988137Z",
     "iopub.status.idle": "2022-03-16T16:05:54.990244Z",
     "shell.execute_reply": "2022-03-16T16:05:54.990708Z",
     "shell.execute_reply.started": "2022-03-16T13:32:15.301206Z"
    },
    "papermill": {
     "duration": 0.06443,
     "end_time": "2022-03-16T16:05:54.990849",
     "exception": false,
     "start_time": "2022-03-16T16:05:54.926419",
     "status": "completed"
    },
    "tags": []
   },
   "outputs": [],
   "source": [
    "from sklearn.model_selection import TimeSeriesSplit\n",
    "timesplit= TimeSeriesSplit(n_splits=10)\n",
    "for train_index, test_index in timesplit.split(feature_transform):\n",
    "    X_train, X_test=feature_transform[:len(train_index)], feature_transform[len(train_index): (len(train_index)+len(test_index))]\n",
    "    y_train, y_test=output_var[:len(train_index)].values.ravel(), output_var[len(train_index): (len(train_index)+len(test_index))].values.ravel()"
   ]
  },
  {
   "cell_type": "markdown",
   "id": "236e4f7e",
   "metadata": {
    "papermill": {
     "duration": 0.051465,
     "end_time": "2022-03-16T16:05:55.096766",
     "exception": false,
     "start_time": "2022-03-16T16:05:55.045301",
     "status": "completed"
    },
    "tags": []
   },
   "source": [
    "Once the training and test sets are finalized, we will input the data into the LSTM model. Before we can do that, we must transform the training and test set data into a format that the LSTM model can interpret. As the LSTM needs that the data to be provided in the 3D form, we first transform the training and test data to NumPy arrays and then restructure them to match into the format (Number of Samples, 1, Number of Features)."
   ]
  },
  {
   "cell_type": "code",
   "execution_count": 22,
   "id": "a2af2d9b",
   "metadata": {
    "execution": {
     "iopub.execute_input": "2022-03-16T16:05:55.199360Z",
     "iopub.status.busy": "2022-03-16T16:05:55.198647Z",
     "iopub.status.idle": "2022-03-16T16:05:55.200706Z",
     "shell.execute_reply": "2022-03-16T16:05:55.201119Z",
     "shell.execute_reply.started": "2022-03-16T13:32:26.819848Z"
    },
    "papermill": {
     "duration": 0.055622,
     "end_time": "2022-03-16T16:05:55.201239",
     "exception": false,
     "start_time": "2022-03-16T16:05:55.145617",
     "status": "completed"
    },
    "tags": []
   },
   "outputs": [],
   "source": [
    "trainX =np.array(X_train)\n",
    "testX =np.array(X_test)\n",
    "X_train = trainX.reshape(X_train.shape[0], 1, X_train.shape[1])\n",
    "X_test = testX.reshape(X_test.shape[0], 1, X_test.shape[1])"
   ]
  },
  {
   "cell_type": "markdown",
   "id": "b3f3dd1d",
   "metadata": {
    "papermill": {
     "duration": 0.048853,
     "end_time": "2022-03-16T16:05:55.298404",
     "exception": false,
     "start_time": "2022-03-16T16:05:55.249551",
     "status": "completed"
    },
    "tags": []
   },
   "source": [
    "## Applying the LSTM model\n",
    "\n",
    "We will now build a Sequential Keras model with one LSTM layer. The LSTM layer has 32 units and is followed by one Dense Layer of one neuron.\n",
    "\n",
    "We compile the model using Adam Optimizer and the Mean Squared Error as the loss function. For an LSTM model, this is the most preferred combination. The model is plotted and presented below."
   ]
  },
  {
   "cell_type": "code",
   "execution_count": 23,
   "id": "bb3751b5",
   "metadata": {
    "execution": {
     "iopub.execute_input": "2022-03-16T16:05:55.403156Z",
     "iopub.status.busy": "2022-03-16T16:05:55.402464Z",
     "iopub.status.idle": "2022-03-16T16:06:02.685231Z",
     "shell.execute_reply": "2022-03-16T16:06:02.685669Z",
     "shell.execute_reply.started": "2022-03-16T13:32:41.784902Z"
    },
    "papermill": {
     "duration": 7.338646,
     "end_time": "2022-03-16T16:06:02.685849",
     "exception": false,
     "start_time": "2022-03-16T16:05:55.347203",
     "status": "completed"
    },
    "tags": []
   },
   "outputs": [
    {
     "name": "stderr",
     "output_type": "stream",
     "text": [
      "2022-03-16 16:05:59.786447: I tensorflow/stream_executor/cuda/cuda_gpu_executor.cc:937] successful NUMA node read from SysFS had negative value (-1), but there must be at least one NUMA node, so returning NUMA node zero\n",
      "2022-03-16 16:05:59.791418: I tensorflow/stream_executor/cuda/cuda_gpu_executor.cc:937] successful NUMA node read from SysFS had negative value (-1), but there must be at least one NUMA node, so returning NUMA node zero\n",
      "2022-03-16 16:05:59.792107: I tensorflow/stream_executor/cuda/cuda_gpu_executor.cc:937] successful NUMA node read from SysFS had negative value (-1), but there must be at least one NUMA node, so returning NUMA node zero\n",
      "2022-03-16 16:05:59.793134: I tensorflow/core/platform/cpu_feature_guard.cc:142] This TensorFlow binary is optimized with oneAPI Deep Neural Network Library (oneDNN) to use the following CPU instructions in performance-critical operations:  AVX2 AVX512F FMA\n",
      "To enable them in other operations, rebuild TensorFlow with the appropriate compiler flags.\n",
      "2022-03-16 16:05:59.794226: I tensorflow/stream_executor/cuda/cuda_gpu_executor.cc:937] successful NUMA node read from SysFS had negative value (-1), but there must be at least one NUMA node, so returning NUMA node zero\n",
      "2022-03-16 16:05:59.794819: I tensorflow/stream_executor/cuda/cuda_gpu_executor.cc:937] successful NUMA node read from SysFS had negative value (-1), but there must be at least one NUMA node, so returning NUMA node zero\n",
      "2022-03-16 16:05:59.795399: I tensorflow/stream_executor/cuda/cuda_gpu_executor.cc:937] successful NUMA node read from SysFS had negative value (-1), but there must be at least one NUMA node, so returning NUMA node zero\n",
      "2022-03-16 16:06:01.430537: I tensorflow/stream_executor/cuda/cuda_gpu_executor.cc:937] successful NUMA node read from SysFS had negative value (-1), but there must be at least one NUMA node, so returning NUMA node zero\n",
      "2022-03-16 16:06:01.431361: I tensorflow/stream_executor/cuda/cuda_gpu_executor.cc:937] successful NUMA node read from SysFS had negative value (-1), but there must be at least one NUMA node, so returning NUMA node zero\n",
      "2022-03-16 16:06:01.432012: I tensorflow/stream_executor/cuda/cuda_gpu_executor.cc:937] successful NUMA node read from SysFS had negative value (-1), but there must be at least one NUMA node, so returning NUMA node zero\n",
      "2022-03-16 16:06:01.432578: I tensorflow/core/common_runtime/gpu/gpu_device.cc:1510] Created device /job:localhost/replica:0/task:0/device:GPU:0 with 14803 MB memory:  -> device: 0, name: Tesla P100-PCIE-16GB, pci bus id: 0000:00:04.0, compute capability: 6.0\n"
     ]
    },
    {
     "data": {
      "image/png": "[encoded data removed]",
      "text/plain": [
       "<IPython.core.display.Image object>"
      ]
     },
     "execution_count": 23,
     "metadata": {},
     "output_type": "execute_result"
    }
   ],
   "source": [
    "from keras.layers import LSTM, Dense, Dropout\n",
    "from sklearn.model_selection import TimeSeriesSplit\n",
    "from sklearn import linear_model\n",
    "from keras.models import Sequential\n",
    "from keras.layers import Dense\n",
    "from keras.callbacks import EarlyStopping\n",
    "from keras.models import load_model\n",
    "from keras.layers import LSTM\n",
    "from keras.utils.vis_utils import plot_model\n",
    "lstm = Sequential()\n",
    "lstm.add(LSTM(32, input_shape=(1, trainX.shape[1]), activation='relu',return_sequences=False))\n",
    "lstm.add(Dense(1))\n",
    "lstm.compile(loss='mean_squared_error', optimizer='adam')\n",
    "plot_model(lstm, show_shapes=True, show_layer_names=True)"
   ]
  },
  {
   "cell_type": "markdown",
   "id": "7668800d",
   "metadata": {
    "papermill": {
     "duration": 0.053901,
     "end_time": "2022-03-16T16:06:02.795209",
     "exception": false,
     "start_time": "2022-03-16T16:06:02.741308",
     "status": "completed"
    },
    "tags": []
   },
   "source": [
    "We use the fit function to train the LSTM model created above on the training data for 100 epochs with a batch size of 8."
   ]
  },
  {
   "cell_type": "code",
   "execution_count": 24,
   "id": "0a6b6d76",
   "metadata": {
    "execution": {
     "iopub.execute_input": "2022-03-16T16:06:02.908086Z",
     "iopub.status.busy": "2022-03-16T16:06:02.904546Z",
     "iopub.status.idle": "2022-03-16T16:18:36.356697Z",
     "shell.execute_reply": "2022-03-16T16:18:36.357496Z",
     "shell.execute_reply.started": "2022-03-16T13:33:50.543140Z"
    },
    "papermill": {
     "duration": 753.50779,
     "end_time": "2022-03-16T16:18:36.357666",
     "exception": false,
     "start_time": "2022-03-16T16:06:02.849876",
     "status": "completed"
    },
    "tags": []
   },
   "outputs": [
    {
     "name": "stderr",
     "output_type": "stream",
     "text": [
      "2022-03-16 16:06:02.959025: I tensorflow/compiler/mlir/mlir_graph_optimization_pass.cc:185] None of the MLIR Optimization Passes are enabled (registered 2)\n"
     ]
    },
    {
     "name": "stdout",
     "output_type": "stream",
     "text": [
      "Epoch 1/100\n",
      "1458/1458 [==============================] - 8s 5ms/step - loss: 3698077.5000\n",
      "Epoch 2/100\n",
      "1458/1458 [==============================] - 7s 5ms/step - loss: 3326866.5000\n",
      "Epoch 3/100\n",
      "1458/1458 [==============================] - 8s 5ms/step - loss: 2906717.7500\n",
      "Epoch 4/100\n",
      "1458/1458 [==============================] - 7s 5ms/step - loss: 2480994.0000\n",
      "Epoch 5/100\n",
      "1458/1458 [==============================] - 7s 5ms/step - loss: 2086782.3750\n",
      "Epoch 6/100\n",
      "1458/1458 [==============================] - 7s 5ms/step - loss: 1746946.2500\n",
      "Epoch 7/100\n",
      "1458/1458 [==============================] - 7s 5ms/step - loss: 1459236.3750\n",
      "Epoch 8/100\n",
      "1458/1458 [==============================] - 7s 5ms/step - loss: 1180937.3750\n",
      "Epoch 9/100\n",
      "1458/1458 [==============================] - 8s 5ms/step - loss: 882065.0000\n",
      "Epoch 10/100\n",
      "1458/1458 [==============================] - 7s 5ms/step - loss: 620710.9375\n",
      "Epoch 11/100\n",
      "1458/1458 [==============================] - 7s 5ms/step - loss: 435633.9688\n",
      "Epoch 12/100\n",
      "1458/1458 [==============================] - 8s 5ms/step - loss: 318153.7500\n",
      "Epoch 13/100\n",
      "1458/1458 [==============================] - 7s 5ms/step - loss: 244352.3125\n",
      "Epoch 14/100\n",
      "1458/1458 [==============================] - 7s 5ms/step - loss: 197125.4219\n",
      "Epoch 15/100\n",
      "1458/1458 [==============================] - 7s 5ms/step - loss: 166961.1875\n",
      "Epoch 16/100\n",
      "1458/1458 [==============================] - 7s 5ms/step - loss: 142824.2500\n",
      "Epoch 17/100\n",
      "1458/1458 [==============================] - 8s 5ms/step - loss: 118928.1250\n",
      "Epoch 18/100\n",
      "1458/1458 [==============================] - 7s 5ms/step - loss: 93606.6562\n",
      "Epoch 19/100\n",
      "1458/1458 [==============================] - 7s 4ms/step - loss: 71546.6953\n",
      "Epoch 20/100\n",
      "1458/1458 [==============================] - 7s 5ms/step - loss: 55318.5977\n",
      "Epoch 21/100\n",
      "1458/1458 [==============================] - 8s 6ms/step - loss: 43110.3789\n",
      "Epoch 22/100\n",
      "1458/1458 [==============================] - 8s 5ms/step - loss: 33804.1680\n",
      "Epoch 23/100\n",
      "1458/1458 [==============================] - 7s 5ms/step - loss: 26901.9219\n",
      "Epoch 24/100\n",
      "1458/1458 [==============================] - 7s 5ms/step - loss: 21891.0898\n",
      "Epoch 25/100\n",
      "1458/1458 [==============================] - 7s 5ms/step - loss: 18271.2812\n",
      "Epoch 26/100\n",
      "1458/1458 [==============================] - 8s 6ms/step - loss: 15630.1367\n",
      "Epoch 27/100\n",
      "1458/1458 [==============================] - 7s 5ms/step - loss: 13658.2305\n",
      "Epoch 28/100\n",
      "1458/1458 [==============================] - 7s 4ms/step - loss: 12139.9805\n",
      "Epoch 29/100\n",
      "1458/1458 [==============================] - 7s 5ms/step - loss: 10935.3154\n",
      "Epoch 30/100\n",
      "1458/1458 [==============================] - 8s 6ms/step - loss: 9954.9824\n",
      "Epoch 31/100\n",
      "1458/1458 [==============================] - 8s 5ms/step - loss: 9139.4639\n",
      "Epoch 32/100\n",
      "1458/1458 [==============================] - 7s 5ms/step - loss: 8446.0117\n",
      "Epoch 33/100\n",
      "1458/1458 [==============================] - 7s 5ms/step - loss: 7842.5449\n",
      "Epoch 34/100\n",
      "1458/1458 [==============================] - 7s 5ms/step - loss: 7304.4844\n",
      "Epoch 35/100\n",
      "1458/1458 [==============================] - 8s 6ms/step - loss: 6813.0610\n",
      "Epoch 36/100\n",
      "1458/1458 [==============================] - 7s 5ms/step - loss: 6354.4448\n",
      "Epoch 37/100\n",
      "1458/1458 [==============================] - 7s 5ms/step - loss: 5918.8354\n",
      "Epoch 38/100\n",
      "1458/1458 [==============================] - 7s 5ms/step - loss: 5499.9224\n",
      "Epoch 39/100\n",
      "1458/1458 [==============================] - 8s 6ms/step - loss: 5094.2275\n",
      "Epoch 40/100\n",
      "1458/1458 [==============================] - 8s 5ms/step - loss: 4700.6631\n",
      "Epoch 41/100\n",
      "1458/1458 [==============================] - 7s 5ms/step - loss: 4319.9771\n",
      "Epoch 42/100\n",
      "1458/1458 [==============================] - 7s 5ms/step - loss: 3954.1326\n",
      "Epoch 43/100\n",
      "1458/1458 [==============================] - 7s 5ms/step - loss: 3605.7202\n",
      "Epoch 44/100\n",
      "1458/1458 [==============================] - 9s 6ms/step - loss: 3277.2251\n",
      "Epoch 45/100\n",
      "1458/1458 [==============================] - 7s 5ms/step - loss: 2970.6321\n",
      "Epoch 46/100\n",
      "1458/1458 [==============================] - 7s 5ms/step - loss: 2687.1345\n",
      "Epoch 47/100\n",
      "1458/1458 [==============================] - 8s 5ms/step - loss: 2427.1228\n",
      "Epoch 48/100\n",
      "1458/1458 [==============================] - 9s 6ms/step - loss: 2190.2705\n",
      "Epoch 49/100\n",
      "1458/1458 [==============================] - 8s 5ms/step - loss: 1975.7360\n",
      "Epoch 50/100\n",
      "1458/1458 [==============================] - 7s 5ms/step - loss: 1782.3578\n",
      "Epoch 51/100\n",
      "1458/1458 [==============================] - 8s 5ms/step - loss: 1608.8740\n",
      "Epoch 52/100\n",
      "1458/1458 [==============================] - 8s 5ms/step - loss: 1454.0098\n",
      "Epoch 53/100\n",
      "1458/1458 [==============================] - 9s 6ms/step - loss: 1316.5110\n",
      "Epoch 54/100\n",
      "1458/1458 [==============================] - 7s 5ms/step - loss: 1195.1576\n",
      "Epoch 55/100\n",
      "1458/1458 [==============================] - 7s 5ms/step - loss: 1088.7236\n",
      "Epoch 56/100\n",
      "1458/1458 [==============================] - 7s 5ms/step - loss: 995.9542\n",
      "Epoch 57/100\n",
      "1458/1458 [==============================] - 8s 6ms/step - loss: 915.5607\n",
      "Epoch 58/100\n",
      "1458/1458 [==============================] - 8s 6ms/step - loss: 846.2394\n",
      "Epoch 59/100\n",
      "1458/1458 [==============================] - 7s 5ms/step - loss: 786.7258\n",
      "Epoch 60/100\n",
      "1458/1458 [==============================] - 8s 5ms/step - loss: 735.8364\n",
      "Epoch 61/100\n",
      "1458/1458 [==============================] - 7s 5ms/step - loss: 692.4975\n",
      "Epoch 62/100\n",
      "1458/1458 [==============================] - 10s 7ms/step - loss: 655.7596\n",
      "Epoch 63/100\n",
      "1458/1458 [==============================] - 7s 5ms/step - loss: 624.7544\n",
      "Epoch 64/100\n",
      "1458/1458 [==============================] - 8s 5ms/step - loss: 598.6675\n",
      "Epoch 65/100\n",
      "1458/1458 [==============================] - 7s 5ms/step - loss: 576.7226\n",
      "Epoch 66/100\n",
      "1458/1458 [==============================] - 7s 5ms/step - loss: 558.1884\n",
      "Epoch 67/100\n",
      "1458/1458 [==============================] - 10s 7ms/step - loss: 542.4131\n",
      "Epoch 68/100\n",
      "1458/1458 [==============================] - 8s 5ms/step - loss: 528.8352\n",
      "Epoch 69/100\n",
      "1458/1458 [==============================] - 7s 5ms/step - loss: 516.9962\n",
      "Epoch 70/100\n",
      "1458/1458 [==============================] - 7s 5ms/step - loss: 506.5232\n",
      "Epoch 71/100\n",
      "1458/1458 [==============================] - 9s 6ms/step - loss: 497.1220\n",
      "Epoch 72/100\n",
      "1458/1458 [==============================] - 9s 6ms/step - loss: 488.5611\n",
      "Epoch 73/100\n",
      "1458/1458 [==============================] - 7s 5ms/step - loss: 480.6711\n",
      "Epoch 74/100\n",
      "1458/1458 [==============================] - 7s 5ms/step - loss: 473.3205\n",
      "Epoch 75/100\n",
      "1458/1458 [==============================] - 7s 5ms/step - loss: 466.4172\n",
      "Epoch 76/100\n",
      "1458/1458 [==============================] - 11s 7ms/step - loss: 459.8971\n",
      "Epoch 77/100\n",
      "1458/1458 [==============================] - 7s 5ms/step - loss: 453.7113\n",
      "Epoch 78/100\n",
      "1458/1458 [==============================] - 7s 5ms/step - loss: 447.8252\n",
      "Epoch 79/100\n",
      "1458/1458 [==============================] - 7s 5ms/step - loss: 442.2125\n",
      "Epoch 80/100\n",
      "1458/1458 [==============================] - 7s 5ms/step - loss: 436.8543\n",
      "Epoch 81/100\n",
      "1458/1458 [==============================] - 10s 7ms/step - loss: 431.7314\n",
      "Epoch 82/100\n",
      "1458/1458 [==============================] - 7s 5ms/step - loss: 426.8278\n",
      "Epoch 83/100\n",
      "1458/1458 [==============================] - 7s 5ms/step - loss: 422.1309\n",
      "Epoch 84/100\n",
      "1458/1458 [==============================] - 7s 5ms/step - loss: 417.6254\n",
      "Epoch 85/100\n",
      "1458/1458 [==============================] - 8s 5ms/step - loss: 413.3004\n",
      "Epoch 86/100\n",
      "1458/1458 [==============================] - 7s 5ms/step - loss: 409.1424\n",
      "Epoch 87/100\n",
      "1458/1458 [==============================] - 7s 5ms/step - loss: 405.1433\n",
      "Epoch 88/100\n",
      "1458/1458 [==============================] - 7s 5ms/step - loss: 401.2892\n",
      "Epoch 89/100\n",
      "1458/1458 [==============================] - 7s 5ms/step - loss: 397.5739\n",
      "Epoch 90/100\n",
      "1458/1458 [==============================] - 11s 7ms/step - loss: 393.9879\n",
      "Epoch 91/100\n",
      "1458/1458 [==============================] - 7s 5ms/step - loss: 390.5215\n",
      "Epoch 92/100\n",
      "1458/1458 [==============================] - 7s 5ms/step - loss: 387.1732\n",
      "Epoch 93/100\n",
      "1458/1458 [==============================] - 7s 5ms/step - loss: 383.9319\n",
      "Epoch 94/100\n",
      "1458/1458 [==============================] - 8s 5ms/step - loss: 380.7948\n",
      "Epoch 95/100\n",
      "1458/1458 [==============================] - 7s 5ms/step - loss: 377.7576\n",
      "Epoch 96/100\n",
      "1458/1458 [==============================] - 7s 5ms/step - loss: 374.8173\n",
      "Epoch 97/100\n",
      "1458/1458 [==============================] - 7s 5ms/step - loss: 371.9709\n",
      "Epoch 98/100\n",
      "1458/1458 [==============================] - 8s 5ms/step - loss: 369.2160\n",
      "Epoch 99/100\n",
      "1458/1458 [==============================] - 12s 8ms/step - loss: 366.5516\n",
      "Epoch 100/100\n",
      "1458/1458 [==============================] - 7s 5ms/step - loss: 363.9767\n"
     ]
    }
   ],
   "source": [
    "history=lstm.fit(X_train, y_train, epochs=100, batch_size=8, verbose=1, shuffle=False)"
   ]
  },
  {
   "cell_type": "markdown",
   "id": "07838b00",
   "metadata": {
    "papermill": {
     "duration": 4.53932,
     "end_time": "2022-03-16T16:18:45.861559",
     "exception": false,
     "start_time": "2022-03-16T16:18:41.322239",
     "status": "completed"
    },
    "tags": []
   },
   "source": [
    "Finally, we can observe that the loss value has dropped exponentially over time over the 100-epoch training procedure, reaching a value of 396.0334."
   ]
  },
  {
   "cell_type": "markdown",
   "id": "3da88982",
   "metadata": {
    "papermill": {
     "duration": 4.549836,
     "end_time": "2022-03-16T16:18:55.507079",
     "exception": false,
     "start_time": "2022-03-16T16:18:50.957243",
     "status": "completed"
    },
    "tags": []
   },
   "source": [
    "We have our model ready now, we can use it to forecast the Adjacent Close Value of the Microsoft stock by using a model trained using the LSTM network on the test set. This is accomplished by employing the simple predict function on the LSTM model that has been created.\n",
    "\n",
    "We will also display the graph to compare both Adj Close’s true values and Adj Close’s predicted value using the LSTM Machine Learning model."
   ]
  },
  {
   "cell_type": "code",
   "execution_count": 25,
   "id": "71168edd",
   "metadata": {
    "execution": {
     "iopub.execute_input": "2022-03-16T16:19:04.683209Z",
     "iopub.status.busy": "2022-03-16T16:19:04.682354Z",
     "iopub.status.idle": "2022-03-16T16:19:05.126980Z",
     "shell.execute_reply": "2022-03-16T16:19:05.127649Z",
     "shell.execute_reply.started": "2022-03-16T13:57:42.462201Z"
    },
    "papermill": {
     "duration": 5.175117,
     "end_time": "2022-03-16T16:19:05.127863",
     "exception": false,
     "start_time": "2022-03-16T16:18:59.952746",
     "status": "completed"
    },
    "tags": []
   },
   "outputs": [
    {
     "data": {
      "image/png": "[encoded data removed]",
      "text/plain": [
       "<Figure size 432x288 with 1 Axes>"
      ]
     },
     "metadata": {
      "needs_background": "light"
     },
     "output_type": "display_data"
    }
   ],
   "source": [
    "y_pred= lstm.predict(X_test)\n",
    "\n",
    "\n",
    "plt.plot(y_test, label='True Value')\n",
    "plt.plot(y_pred, label='LSTM Value')\n",
    "plt.title('Prediction by LSTM')\n",
    "plt.xlabel('Time Scale')\n",
    "plt.ylabel('Scaled USD')\n",
    "plt.legend()\n",
    "plt.show()"
   ]
  },
  {
   "cell_type": "code",
   "execution_count": null,
   "id": "14bd238e",
   "metadata": {
    "papermill": {
     "duration": 4.72785,
     "end_time": "2022-03-16T16:19:14.350427",
     "exception": false,
     "start_time": "2022-03-16T16:19:09.622577",
     "status": "completed"
    },
    "tags": []
   },
   "outputs": [],
   "source": []
  }
 ],
 "metadata": {
  "kernelspec": {
   "display_name": "Python 3",
   "language": "python",
   "name": "python3"
  },
  "language_info": {
   "codemirror_mode": {
    "name": "ipython",
    "version": 3
   },
   "file_extension": ".py",
   "mimetype": "text/x-python",
   "name": "python",
   "nbconvert_exporter": "python",
   "pygments_lexer": "ipython3",
   "version": "3.7.12"
  },
  "papermill": {
   "default_parameters": {},
   "duration": 887.778018,
   "end_time": "2022-03-16T16:19:21.743863",
   "environment_variables": {},
   "exception": null,
   "input_path": "__notebook__.ipynb",
   "output_path": "__notebook__.ipynb",
   "parameters": {},
   "start_time": "2022-03-16T16:04:33.965845",
   "version": "2.3.3"
  }
 },
 "nbformat": 4,
 "nbformat_minor": 5
}
